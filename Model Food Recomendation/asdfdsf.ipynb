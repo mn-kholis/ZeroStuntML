{
 "cells": [
  {
   "cell_type": "code",
   "execution_count": 2,
   "metadata": {},
   "outputs": [
    {
     "name": "stdout",
     "output_type": "stream",
     "text": [
      "Flask== 3.0.3\n",
      "Numpy== 2.0.2\n",
      "Pandas== 2.2.3\n",
      "Scikit-learn== 1.5.2\n",
      "TensorFlow== 2.18.0\n"
     ]
    },
    {
     "name": "stderr",
     "output_type": "stream",
     "text": [
      "C:\\Users\\Lenovo\\AppData\\Local\\Temp\\ipykernel_132772\\3045872778.py:7: DeprecationWarning: The '__version__' attribute is deprecated and will be removed in Flask 3.1. Use feature detection or 'importlib.metadata.version(\"flask\")' instead.\n",
      "  print(\"Flask==\", flask.__version__)\n"
     ]
    }
   ],
   "source": [
    "import flask\n",
    "import numpy\n",
    "import pandas as pd\n",
    "import sklearn\n",
    "import tensorflow as tf\n",
    "\n",
    "print(\"Flask==\", flask.__version__)\n",
    "print(\"Numpy==\", numpy.__version__)\n",
    "print(\"Pandas==\", pd.__version__)\n",
    "print(\"Scikit-learn==\", sklearn.__version__)\n",
    "print(\"TensorFlow==\", tf.__version__)\n"
   ]
  }
 ],
 "metadata": {
  "kernelspec": {
   "display_name": "Python 3",
   "language": "python",
   "name": "python3"
  },
  "language_info": {
   "codemirror_mode": {
    "name": "ipython",
    "version": 3
   },
   "file_extension": ".py",
   "mimetype": "text/x-python",
   "name": "python",
   "nbconvert_exporter": "python",
   "pygments_lexer": "ipython3",
   "version": "3.12.6"
  }
 },
 "nbformat": 4,
 "nbformat_minor": 2
}
